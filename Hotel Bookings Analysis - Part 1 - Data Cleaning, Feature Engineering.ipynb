{
 "cells": [
  {
   "cell_type": "markdown",
   "id": "76ac6e60",
   "metadata": {},
   "source": [
    "# Hotel Bookings Analysis "
   ]
  },
  {
   "cell_type": "markdown",
   "id": "7b0c583b",
   "metadata": {},
   "source": [
    "# Part 1 - Data Cleaning and Feature Engineering"
   ]
  },
  {
   "cell_type": "markdown",
   "id": "39a91d3a",
   "metadata": {},
   "source": [
    "<b> Project Objetive: </b>\n",
    "\n",
    "The objective of this project is to answer the following 3 questions for each hotel of the dataset:\n",
    "* What is the seasonality for each hotel and what are the top performing months?\n",
    "* What are the top countries in terms of bookings and/or revenue?\n",
    "* What´s the most frequent guest type for each hotel? \n",
    "\n",
    "Also:\n",
    "* Explore the use of Python for data analysis in the hospitality industry\n",
    "\n",
    "\n",
    "\n",
    "<b> Data Source: </b>\n",
    "\n",
    "The dataset used in this project can be found on Kaggle under the following link:\n",
    "\n",
    "https://www.kaggle.com/jessemostipak/hotel-booking-demand\n",
    "\n",
    "\n",
    "<b> About the dataset: </b> \n",
    "\n",
    "* This data set contains a single file which compares various booking information between two hotels: a city hotel and a resort hotel.\n",
    "* Includes information such as when the booking was made, length of stay, the number of adults, children, and/or babies, and the number of available parking spaces, among other things. A total of 32 variables.\n",
    "* All personally identifying information has been removed from the data.\n",
    "* Both hotels are assumed to be located in Portugal, however their exact location and name are unknown.\n",
    "* The dataset contains a total of 119390 entries.\n",
    "\n",
    "\n",
    "<b> Table of contents: </b>\n",
    "\n",
    "1. Importing the libraries and custom functions needed and uploading the dataset\n",
    "2. Handling null values and dropping unnecessary variables\n",
    "3. Importing country / continent information\n",
    "4. Handling datetime variables \n",
    "5. Handling monetary variables - ADR \n",
    "6. Handling customer data\n",
    "7. Adding booking value column\n",
    "8. Exporting the clean dataset "
   ]
  },
  {
   "cell_type": "markdown",
   "id": "06ccc6fa",
   "metadata": {},
   "source": [
    "<b> 1. Importing the libraries needed and uploading the dataset </b>"
   ]
  },
  {
   "cell_type": "code",
   "execution_count": 1,
   "id": "2e61d440",
   "metadata": {},
   "outputs": [],
   "source": [
    "# import required libraries for dataframe and visualization\n",
    "\n",
    "import numpy as np\n",
    "import pandas as pd\n",
    "import matplotlib.pyplot as plt\n",
    "import seaborn as sns\n",
    "import datetime as dt\n",
    "import plotly.express as px"
   ]
  },
  {
   "cell_type": "code",
   "execution_count": 2,
   "id": "0b741b87",
   "metadata": {},
   "outputs": [
    {
     "data": {
      "text/html": [
       "        <script type=\"text/javascript\">\n",
       "        window.PlotlyConfig = {MathJaxConfig: 'local'};\n",
       "        if (window.MathJax) {MathJax.Hub.Config({SVG: {font: \"STIX-Web\"}});}\n",
       "        if (typeof require !== 'undefined') {\n",
       "        require.undef(\"plotly\");\n",
       "        requirejs.config({\n",
       "            paths: {\n",
       "                'plotly': ['https://cdn.plot.ly/plotly-2.6.3.min']\n",
       "            }\n",
       "        });\n",
       "        require(['plotly'], function(Plotly) {\n",
       "            window._Plotly = Plotly;\n",
       "        });\n",
       "        }\n",
       "        </script>\n",
       "        "
      ]
     },
     "metadata": {},
     "output_type": "display_data"
    },
    {
     "data": {
      "text/html": [
       "        <script type=\"text/javascript\">\n",
       "        window.PlotlyConfig = {MathJaxConfig: 'local'};\n",
       "        if (window.MathJax) {MathJax.Hub.Config({SVG: {font: \"STIX-Web\"}});}\n",
       "        if (typeof require !== 'undefined') {\n",
       "        require.undef(\"plotly\");\n",
       "        requirejs.config({\n",
       "            paths: {\n",
       "                'plotly': ['https://cdn.plot.ly/plotly-2.6.3.min']\n",
       "            }\n",
       "        });\n",
       "        require(['plotly'], function(Plotly) {\n",
       "            window._Plotly = Plotly;\n",
       "        });\n",
       "        }\n",
       "        </script>\n",
       "        "
      ]
     },
     "metadata": {},
     "output_type": "display_data"
    }
   ],
   "source": [
    "# import functions doc\n",
    "import sys  \n",
    "sys.path.insert(0, \"../_functions_2\")\n",
    "from Functions_EDA import *\n",
    "from functions_plot_EDA import *"
   ]
  },
  {
   "cell_type": "code",
   "execution_count": 3,
   "id": "38f16c31",
   "metadata": {},
   "outputs": [],
   "source": [
    "#import file\n",
    "file_path = \"hotel_bookings.csv\"\n",
    "data_raw = pd.read_csv(file_path)\n"
   ]
  },
  {
   "cell_type": "code",
   "execution_count": 4,
   "id": "c1df2584",
   "metadata": {},
   "outputs": [
    {
     "name": "stdout",
     "output_type": "stream",
     "text": [
      "<class 'pandas.core.frame.DataFrame'>\n",
      "RangeIndex: 119390 entries, 0 to 119389\n",
      "Data columns (total 32 columns):\n",
      " #   Column                          Non-Null Count   Dtype  \n",
      "---  ------                          --------------   -----  \n",
      " 0   hotel                           119390 non-null  object \n",
      " 1   is_canceled                     119390 non-null  int64  \n",
      " 2   lead_time                       119390 non-null  int64  \n",
      " 3   arrival_date_year               119390 non-null  int64  \n",
      " 4   arrival_date_month              119390 non-null  object \n",
      " 5   arrival_date_week_number        119390 non-null  int64  \n",
      " 6   arrival_date_day_of_month       119390 non-null  int64  \n",
      " 7   stays_in_weekend_nights         119390 non-null  int64  \n",
      " 8   stays_in_week_nights            119390 non-null  int64  \n",
      " 9   adults                          119390 non-null  int64  \n",
      " 10  children                        119386 non-null  float64\n",
      " 11  babies                          119390 non-null  int64  \n",
      " 12  meal                            119390 non-null  object \n",
      " 13  country                         118902 non-null  object \n",
      " 14  market_segment                  119390 non-null  object \n",
      " 15  distribution_channel            119390 non-null  object \n",
      " 16  is_repeated_guest               119390 non-null  int64  \n",
      " 17  previous_cancellations          119390 non-null  int64  \n",
      " 18  previous_bookings_not_canceled  119390 non-null  int64  \n",
      " 19  reserved_room_type              119390 non-null  object \n",
      " 20  assigned_room_type              119390 non-null  object \n",
      " 21  booking_changes                 119390 non-null  int64  \n",
      " 22  deposit_type                    119390 non-null  object \n",
      " 23  agent                           103050 non-null  float64\n",
      " 24  company                         6797 non-null    float64\n",
      " 25  days_in_waiting_list            119390 non-null  int64  \n",
      " 26  customer_type                   119390 non-null  object \n",
      " 27  adr                             119390 non-null  float64\n",
      " 28  required_car_parking_spaces     119390 non-null  int64  \n",
      " 29  total_of_special_requests       119390 non-null  int64  \n",
      " 30  reservation_status              119390 non-null  object \n",
      " 31  reservation_status_date         119390 non-null  object \n",
      "dtypes: float64(4), int64(16), object(12)\n",
      "memory usage: 29.1+ MB\n"
     ]
    }
   ],
   "source": [
    "data_raw.info()"
   ]
  },
  {
   "cell_type": "code",
   "execution_count": 5,
   "id": "f3a9d3c7",
   "metadata": {},
   "outputs": [
    {
     "data": {
      "text/plain": [
       "(119390, 32)"
      ]
     },
     "execution_count": 5,
     "metadata": {},
     "output_type": "execute_result"
    }
   ],
   "source": [
    "data_raw.shape"
   ]
  },
  {
   "cell_type": "markdown",
   "id": "fc000e4d",
   "metadata": {},
   "source": [
    " <b>2. Handling null values and dropping unnecessary variables </b>"
   ]
  },
  {
   "cell_type": "code",
   "execution_count": 6,
   "id": "4e9b836f",
   "metadata": {},
   "outputs": [
    {
     "data": {
      "text/html": [
       "<div>\n",
       "<style scoped>\n",
       "    .dataframe tbody tr th:only-of-type {\n",
       "        vertical-align: middle;\n",
       "    }\n",
       "\n",
       "    .dataframe tbody tr th {\n",
       "        vertical-align: top;\n",
       "    }\n",
       "\n",
       "    .dataframe thead th {\n",
       "        text-align: right;\n",
       "    }\n",
       "</style>\n",
       "<table border=\"1\" class=\"dataframe\">\n",
       "  <thead>\n",
       "    <tr style=\"text-align: right;\">\n",
       "      <th></th>\n",
       "      <th>Percentage_NaN</th>\n",
       "    </tr>\n",
       "  </thead>\n",
       "  <tbody>\n",
       "    <tr>\n",
       "      <th>company</th>\n",
       "      <td>94.3</td>\n",
       "    </tr>\n",
       "    <tr>\n",
       "      <th>agent</th>\n",
       "      <td>13.7</td>\n",
       "    </tr>\n",
       "    <tr>\n",
       "      <th>country</th>\n",
       "      <td>0.4</td>\n",
       "    </tr>\n",
       "    <tr>\n",
       "      <th>hotel</th>\n",
       "      <td>0.0</td>\n",
       "    </tr>\n",
       "    <tr>\n",
       "      <th>previous_cancellations</th>\n",
       "      <td>0.0</td>\n",
       "    </tr>\n",
       "    <tr>\n",
       "      <th>reservation_status</th>\n",
       "      <td>0.0</td>\n",
       "    </tr>\n",
       "    <tr>\n",
       "      <th>total_of_special_requests</th>\n",
       "      <td>0.0</td>\n",
       "    </tr>\n",
       "    <tr>\n",
       "      <th>required_car_parking_spaces</th>\n",
       "      <td>0.0</td>\n",
       "    </tr>\n",
       "    <tr>\n",
       "      <th>adr</th>\n",
       "      <td>0.0</td>\n",
       "    </tr>\n",
       "    <tr>\n",
       "      <th>customer_type</th>\n",
       "      <td>0.0</td>\n",
       "    </tr>\n",
       "    <tr>\n",
       "      <th>days_in_waiting_list</th>\n",
       "      <td>0.0</td>\n",
       "    </tr>\n",
       "    <tr>\n",
       "      <th>deposit_type</th>\n",
       "      <td>0.0</td>\n",
       "    </tr>\n",
       "    <tr>\n",
       "      <th>booking_changes</th>\n",
       "      <td>0.0</td>\n",
       "    </tr>\n",
       "    <tr>\n",
       "      <th>assigned_room_type</th>\n",
       "      <td>0.0</td>\n",
       "    </tr>\n",
       "    <tr>\n",
       "      <th>reserved_room_type</th>\n",
       "      <td>0.0</td>\n",
       "    </tr>\n",
       "    <tr>\n",
       "      <th>previous_bookings_not_canceled</th>\n",
       "      <td>0.0</td>\n",
       "    </tr>\n",
       "    <tr>\n",
       "      <th>is_repeated_guest</th>\n",
       "      <td>0.0</td>\n",
       "    </tr>\n",
       "    <tr>\n",
       "      <th>is_canceled</th>\n",
       "      <td>0.0</td>\n",
       "    </tr>\n",
       "    <tr>\n",
       "      <th>distribution_channel</th>\n",
       "      <td>0.0</td>\n",
       "    </tr>\n",
       "    <tr>\n",
       "      <th>market_segment</th>\n",
       "      <td>0.0</td>\n",
       "    </tr>\n",
       "    <tr>\n",
       "      <th>meal</th>\n",
       "      <td>0.0</td>\n",
       "    </tr>\n",
       "    <tr>\n",
       "      <th>babies</th>\n",
       "      <td>0.0</td>\n",
       "    </tr>\n",
       "    <tr>\n",
       "      <th>children</th>\n",
       "      <td>0.0</td>\n",
       "    </tr>\n",
       "    <tr>\n",
       "      <th>adults</th>\n",
       "      <td>0.0</td>\n",
       "    </tr>\n",
       "    <tr>\n",
       "      <th>stays_in_week_nights</th>\n",
       "      <td>0.0</td>\n",
       "    </tr>\n",
       "    <tr>\n",
       "      <th>stays_in_weekend_nights</th>\n",
       "      <td>0.0</td>\n",
       "    </tr>\n",
       "    <tr>\n",
       "      <th>arrival_date_day_of_month</th>\n",
       "      <td>0.0</td>\n",
       "    </tr>\n",
       "    <tr>\n",
       "      <th>arrival_date_week_number</th>\n",
       "      <td>0.0</td>\n",
       "    </tr>\n",
       "    <tr>\n",
       "      <th>arrival_date_month</th>\n",
       "      <td>0.0</td>\n",
       "    </tr>\n",
       "    <tr>\n",
       "      <th>arrival_date_year</th>\n",
       "      <td>0.0</td>\n",
       "    </tr>\n",
       "    <tr>\n",
       "      <th>lead_time</th>\n",
       "      <td>0.0</td>\n",
       "    </tr>\n",
       "    <tr>\n",
       "      <th>reservation_status_date</th>\n",
       "      <td>0.0</td>\n",
       "    </tr>\n",
       "  </tbody>\n",
       "</table>\n",
       "</div>"
      ],
      "text/plain": [
       "                                Percentage_NaN\n",
       "company                                   94.3\n",
       "agent                                     13.7\n",
       "country                                    0.4\n",
       "hotel                                      0.0\n",
       "previous_cancellations                     0.0\n",
       "reservation_status                         0.0\n",
       "total_of_special_requests                  0.0\n",
       "required_car_parking_spaces                0.0\n",
       "adr                                        0.0\n",
       "customer_type                              0.0\n",
       "days_in_waiting_list                       0.0\n",
       "deposit_type                               0.0\n",
       "booking_changes                            0.0\n",
       "assigned_room_type                         0.0\n",
       "reserved_room_type                         0.0\n",
       "previous_bookings_not_canceled             0.0\n",
       "is_repeated_guest                          0.0\n",
       "is_canceled                                0.0\n",
       "distribution_channel                       0.0\n",
       "market_segment                             0.0\n",
       "meal                                       0.0\n",
       "babies                                     0.0\n",
       "children                                   0.0\n",
       "adults                                     0.0\n",
       "stays_in_week_nights                       0.0\n",
       "stays_in_weekend_nights                    0.0\n",
       "arrival_date_day_of_month                  0.0\n",
       "arrival_date_week_number                   0.0\n",
       "arrival_date_month                         0.0\n",
       "arrival_date_year                          0.0\n",
       "lead_time                                  0.0\n",
       "reservation_status_date                    0.0"
      ]
     },
     "execution_count": 6,
     "metadata": {},
     "output_type": "execute_result"
    }
   ],
   "source": [
    "percentage_nullValues(data_raw)\n",
    "\n",
    "\n",
    "# drop company, agent & null rows from country"
   ]
  },
  {
   "cell_type": "markdown",
   "id": "f7ad8766",
   "metadata": {},
   "source": [
    " <b> Other unnecessary columns </b>"
   ]
  },
  {
   "cell_type": "code",
   "execution_count": 7,
   "id": "021a27a2",
   "metadata": {},
   "outputs": [
    {
     "data": {
      "text/plain": [
       "Index(['hotel', 'is_canceled', 'lead_time', 'arrival_date_year',\n",
       "       'arrival_date_month', 'arrival_date_week_number',\n",
       "       'arrival_date_day_of_month', 'stays_in_weekend_nights',\n",
       "       'stays_in_week_nights', 'adults', 'children', 'babies', 'meal',\n",
       "       'country', 'market_segment', 'distribution_channel',\n",
       "       'is_repeated_guest', 'previous_cancellations',\n",
       "       'previous_bookings_not_canceled', 'reserved_room_type',\n",
       "       'assigned_room_type', 'booking_changes', 'deposit_type', 'agent',\n",
       "       'company', 'days_in_waiting_list', 'customer_type', 'adr',\n",
       "       'required_car_parking_spaces', 'total_of_special_requests',\n",
       "       'reservation_status', 'reservation_status_date'],\n",
       "      dtype='object')"
      ]
     },
     "execution_count": 7,
     "metadata": {},
     "output_type": "execute_result"
    }
   ],
   "source": [
    "data_raw.columns\n",
    "\n",
    "# there are several variables that won´t be needed in the analysis\n",
    "# let´s drop them to keep data clean"
   ]
  },
  {
   "cell_type": "code",
   "execution_count": 8,
   "id": "4d596fe8",
   "metadata": {},
   "outputs": [
    {
     "data": {
      "text/html": [
       "<div>\n",
       "<style scoped>\n",
       "    .dataframe tbody tr th:only-of-type {\n",
       "        vertical-align: middle;\n",
       "    }\n",
       "\n",
       "    .dataframe tbody tr th {\n",
       "        vertical-align: top;\n",
       "    }\n",
       "\n",
       "    .dataframe thead th {\n",
       "        text-align: right;\n",
       "    }\n",
       "</style>\n",
       "<table border=\"1\" class=\"dataframe\">\n",
       "  <thead>\n",
       "    <tr style=\"text-align: right;\">\n",
       "      <th></th>\n",
       "      <th>hotel</th>\n",
       "      <th>lead_time</th>\n",
       "      <th>arrival_date_year</th>\n",
       "      <th>arrival_date_month</th>\n",
       "      <th>arrival_date_week_number</th>\n",
       "      <th>arrival_date_day_of_month</th>\n",
       "      <th>adults</th>\n",
       "      <th>children</th>\n",
       "      <th>babies</th>\n",
       "      <th>meal</th>\n",
       "      <th>country</th>\n",
       "      <th>distribution_channel</th>\n",
       "      <th>deposit_type</th>\n",
       "      <th>adr</th>\n",
       "      <th>required_car_parking_spaces</th>\n",
       "      <th>total_of_special_requests</th>\n",
       "      <th>reservation_status</th>\n",
       "      <th>reservation_status_date</th>\n",
       "    </tr>\n",
       "  </thead>\n",
       "  <tbody>\n",
       "    <tr>\n",
       "      <th>0</th>\n",
       "      <td>Resort Hotel</td>\n",
       "      <td>342</td>\n",
       "      <td>2015</td>\n",
       "      <td>July</td>\n",
       "      <td>27</td>\n",
       "      <td>1</td>\n",
       "      <td>2</td>\n",
       "      <td>0.0</td>\n",
       "      <td>0</td>\n",
       "      <td>BB</td>\n",
       "      <td>PRT</td>\n",
       "      <td>Direct</td>\n",
       "      <td>No Deposit</td>\n",
       "      <td>0.0</td>\n",
       "      <td>0</td>\n",
       "      <td>0</td>\n",
       "      <td>Check-Out</td>\n",
       "      <td>2015-07-01</td>\n",
       "    </tr>\n",
       "    <tr>\n",
       "      <th>1</th>\n",
       "      <td>Resort Hotel</td>\n",
       "      <td>737</td>\n",
       "      <td>2015</td>\n",
       "      <td>July</td>\n",
       "      <td>27</td>\n",
       "      <td>1</td>\n",
       "      <td>2</td>\n",
       "      <td>0.0</td>\n",
       "      <td>0</td>\n",
       "      <td>BB</td>\n",
       "      <td>PRT</td>\n",
       "      <td>Direct</td>\n",
       "      <td>No Deposit</td>\n",
       "      <td>0.0</td>\n",
       "      <td>0</td>\n",
       "      <td>0</td>\n",
       "      <td>Check-Out</td>\n",
       "      <td>2015-07-01</td>\n",
       "    </tr>\n",
       "    <tr>\n",
       "      <th>2</th>\n",
       "      <td>Resort Hotel</td>\n",
       "      <td>7</td>\n",
       "      <td>2015</td>\n",
       "      <td>July</td>\n",
       "      <td>27</td>\n",
       "      <td>1</td>\n",
       "      <td>1</td>\n",
       "      <td>0.0</td>\n",
       "      <td>0</td>\n",
       "      <td>BB</td>\n",
       "      <td>GBR</td>\n",
       "      <td>Direct</td>\n",
       "      <td>No Deposit</td>\n",
       "      <td>75.0</td>\n",
       "      <td>0</td>\n",
       "      <td>0</td>\n",
       "      <td>Check-Out</td>\n",
       "      <td>2015-07-02</td>\n",
       "    </tr>\n",
       "    <tr>\n",
       "      <th>3</th>\n",
       "      <td>Resort Hotel</td>\n",
       "      <td>13</td>\n",
       "      <td>2015</td>\n",
       "      <td>July</td>\n",
       "      <td>27</td>\n",
       "      <td>1</td>\n",
       "      <td>1</td>\n",
       "      <td>0.0</td>\n",
       "      <td>0</td>\n",
       "      <td>BB</td>\n",
       "      <td>GBR</td>\n",
       "      <td>Corporate</td>\n",
       "      <td>No Deposit</td>\n",
       "      <td>75.0</td>\n",
       "      <td>0</td>\n",
       "      <td>0</td>\n",
       "      <td>Check-Out</td>\n",
       "      <td>2015-07-02</td>\n",
       "    </tr>\n",
       "    <tr>\n",
       "      <th>4</th>\n",
       "      <td>Resort Hotel</td>\n",
       "      <td>14</td>\n",
       "      <td>2015</td>\n",
       "      <td>July</td>\n",
       "      <td>27</td>\n",
       "      <td>1</td>\n",
       "      <td>2</td>\n",
       "      <td>0.0</td>\n",
       "      <td>0</td>\n",
       "      <td>BB</td>\n",
       "      <td>GBR</td>\n",
       "      <td>TA/TO</td>\n",
       "      <td>No Deposit</td>\n",
       "      <td>98.0</td>\n",
       "      <td>0</td>\n",
       "      <td>1</td>\n",
       "      <td>Check-Out</td>\n",
       "      <td>2015-07-03</td>\n",
       "    </tr>\n",
       "  </tbody>\n",
       "</table>\n",
       "</div>"
      ],
      "text/plain": [
       "          hotel  lead_time  arrival_date_year arrival_date_month  \\\n",
       "0  Resort Hotel        342               2015               July   \n",
       "1  Resort Hotel        737               2015               July   \n",
       "2  Resort Hotel          7               2015               July   \n",
       "3  Resort Hotel         13               2015               July   \n",
       "4  Resort Hotel         14               2015               July   \n",
       "\n",
       "   arrival_date_week_number  arrival_date_day_of_month  adults  children  \\\n",
       "0                        27                          1       2       0.0   \n",
       "1                        27                          1       2       0.0   \n",
       "2                        27                          1       1       0.0   \n",
       "3                        27                          1       1       0.0   \n",
       "4                        27                          1       2       0.0   \n",
       "\n",
       "   babies meal country distribution_channel deposit_type   adr  \\\n",
       "0       0   BB     PRT               Direct   No Deposit   0.0   \n",
       "1       0   BB     PRT               Direct   No Deposit   0.0   \n",
       "2       0   BB     GBR               Direct   No Deposit  75.0   \n",
       "3       0   BB     GBR            Corporate   No Deposit  75.0   \n",
       "4       0   BB     GBR                TA/TO   No Deposit  98.0   \n",
       "\n",
       "   required_car_parking_spaces  total_of_special_requests reservation_status  \\\n",
       "0                            0                          0          Check-Out   \n",
       "1                            0                          0          Check-Out   \n",
       "2                            0                          0          Check-Out   \n",
       "3                            0                          0          Check-Out   \n",
       "4                            0                          1          Check-Out   \n",
       "\n",
       "  reservation_status_date  \n",
       "0              2015-07-01  \n",
       "1              2015-07-01  \n",
       "2              2015-07-02  \n",
       "3              2015-07-02  \n",
       "4              2015-07-03  "
      ]
     },
     "execution_count": 8,
     "metadata": {},
     "output_type": "execute_result"
    }
   ],
   "source": [
    "# drop unnecessary columns:\n",
    "# agent, company, market_segment, previous_bookings_not_canceled, reserved_room_type, \n",
    "# days_in_waiting_list, customer_type, \n",
    "# stays_in_weekend_nights, stays_in_week_nights, 'is_canceled'\n",
    "# is_repeated_guest, previous_cancellations, assigned_room_type, booking_changes\n",
    "\n",
    "col_drop = [\"is_canceled\", \"agent\", \"company\", \"market_segment\", \"previous_bookings_not_canceled\",\n",
    "\"reserved_room_type\", \"days_in_waiting_list\",\n",
    "\"stays_in_weekend_nights\", \"stays_in_week_nights\", \"customer_type\", \"is_repeated_guest\", \"previous_cancellations\", \"assigned_room_type\", \"booking_changes\"]\n",
    "\n",
    "data_clean = data_raw.drop(columns = col_drop, axis=1)\n",
    "data_clean.head()"
   ]
  },
  {
   "cell_type": "markdown",
   "id": "ed38bb6a",
   "metadata": {},
   "source": [
    "<b>Cleaning the row values</b>"
   ]
  },
  {
   "cell_type": "code",
   "execution_count": 9,
   "id": "1bd6b561",
   "metadata": {},
   "outputs": [],
   "source": [
    "# drop null rows in the column \"country\"\n",
    "data_clean.dropna(subset = [\"country\"], inplace=True)\n"
   ]
  },
  {
   "cell_type": "code",
   "execution_count": 10,
   "id": "0c2b7c69",
   "metadata": {},
   "outputs": [
    {
     "data": {
      "text/plain": [
       "0"
      ]
     },
     "execution_count": 10,
     "metadata": {},
     "output_type": "execute_result"
    }
   ],
   "source": [
    "data_clean.country.isnull().sum()"
   ]
  },
  {
   "cell_type": "markdown",
   "id": "3dc44f62",
   "metadata": {},
   "source": [
    "   <b> 3. Importing country / continent information </b>"
   ]
  },
  {
   "cell_type": "code",
   "execution_count": 11,
   "id": "0340b1cd",
   "metadata": {},
   "outputs": [],
   "source": [
    "# add full names of the countries & corresponding continents\n",
    "country = pd.read_csv(\"country_codes.csv\")"
   ]
  },
  {
   "cell_type": "code",
   "execution_count": 12,
   "id": "84ea4465",
   "metadata": {},
   "outputs": [],
   "source": [
    "country.rename(columns={'alpha_3_code': 'country'}, inplace=True)"
   ]
  },
  {
   "cell_type": "code",
   "execution_count": 13,
   "id": "93c72152",
   "metadata": {},
   "outputs": [],
   "source": [
    "# merge datasets\n",
    "data_clean = pd.merge(left = data_clean, right = country, on = \"country\", how = \"left\")"
   ]
  },
  {
   "cell_type": "code",
   "execution_count": 14,
   "id": "d6677c78",
   "metadata": {},
   "outputs": [
    {
     "data": {
      "text/html": [
       "<div>\n",
       "<style scoped>\n",
       "    .dataframe tbody tr th:only-of-type {\n",
       "        vertical-align: middle;\n",
       "    }\n",
       "\n",
       "    .dataframe tbody tr th {\n",
       "        vertical-align: top;\n",
       "    }\n",
       "\n",
       "    .dataframe thead th {\n",
       "        text-align: right;\n",
       "    }\n",
       "</style>\n",
       "<table border=\"1\" class=\"dataframe\">\n",
       "  <thead>\n",
       "    <tr style=\"text-align: right;\">\n",
       "      <th></th>\n",
       "      <th>Percentage_NaN</th>\n",
       "    </tr>\n",
       "  </thead>\n",
       "  <tbody>\n",
       "    <tr>\n",
       "      <th>sub_region</th>\n",
       "      <td>1.1</td>\n",
       "    </tr>\n",
       "    <tr>\n",
       "      <th>continent</th>\n",
       "      <td>1.1</td>\n",
       "    </tr>\n",
       "    <tr>\n",
       "      <th>country_name</th>\n",
       "      <td>1.1</td>\n",
       "    </tr>\n",
       "    <tr>\n",
       "      <th>distribution_channel</th>\n",
       "      <td>0.0</td>\n",
       "    </tr>\n",
       "    <tr>\n",
       "      <th>reservation_status_date</th>\n",
       "      <td>0.0</td>\n",
       "    </tr>\n",
       "    <tr>\n",
       "      <th>reservation_status</th>\n",
       "      <td>0.0</td>\n",
       "    </tr>\n",
       "    <tr>\n",
       "      <th>total_of_special_requests</th>\n",
       "      <td>0.0</td>\n",
       "    </tr>\n",
       "    <tr>\n",
       "      <th>required_car_parking_spaces</th>\n",
       "      <td>0.0</td>\n",
       "    </tr>\n",
       "    <tr>\n",
       "      <th>adr</th>\n",
       "      <td>0.0</td>\n",
       "    </tr>\n",
       "    <tr>\n",
       "      <th>deposit_type</th>\n",
       "      <td>0.0</td>\n",
       "    </tr>\n",
       "    <tr>\n",
       "      <th>hotel</th>\n",
       "      <td>0.0</td>\n",
       "    </tr>\n",
       "    <tr>\n",
       "      <th>lead_time</th>\n",
       "      <td>0.0</td>\n",
       "    </tr>\n",
       "    <tr>\n",
       "      <th>meal</th>\n",
       "      <td>0.0</td>\n",
       "    </tr>\n",
       "    <tr>\n",
       "      <th>babies</th>\n",
       "      <td>0.0</td>\n",
       "    </tr>\n",
       "    <tr>\n",
       "      <th>children</th>\n",
       "      <td>0.0</td>\n",
       "    </tr>\n",
       "    <tr>\n",
       "      <th>adults</th>\n",
       "      <td>0.0</td>\n",
       "    </tr>\n",
       "    <tr>\n",
       "      <th>arrival_date_day_of_month</th>\n",
       "      <td>0.0</td>\n",
       "    </tr>\n",
       "    <tr>\n",
       "      <th>arrival_date_week_number</th>\n",
       "      <td>0.0</td>\n",
       "    </tr>\n",
       "    <tr>\n",
       "      <th>arrival_date_month</th>\n",
       "      <td>0.0</td>\n",
       "    </tr>\n",
       "    <tr>\n",
       "      <th>arrival_date_year</th>\n",
       "      <td>0.0</td>\n",
       "    </tr>\n",
       "    <tr>\n",
       "      <th>country</th>\n",
       "      <td>0.0</td>\n",
       "    </tr>\n",
       "  </tbody>\n",
       "</table>\n",
       "</div>"
      ],
      "text/plain": [
       "                             Percentage_NaN\n",
       "sub_region                              1.1\n",
       "continent                               1.1\n",
       "country_name                            1.1\n",
       "distribution_channel                    0.0\n",
       "reservation_status_date                 0.0\n",
       "reservation_status                      0.0\n",
       "total_of_special_requests               0.0\n",
       "required_car_parking_spaces             0.0\n",
       "adr                                     0.0\n",
       "deposit_type                            0.0\n",
       "hotel                                   0.0\n",
       "lead_time                               0.0\n",
       "meal                                    0.0\n",
       "babies                                  0.0\n",
       "children                                0.0\n",
       "adults                                  0.0\n",
       "arrival_date_day_of_month               0.0\n",
       "arrival_date_week_number                0.0\n",
       "arrival_date_month                      0.0\n",
       "arrival_date_year                       0.0\n",
       "country                                 0.0"
      ]
     },
     "execution_count": 14,
     "metadata": {},
     "output_type": "execute_result"
    }
   ],
   "source": [
    "percentage_nullValues(data_clean)"
   ]
  },
  {
   "cell_type": "code",
   "execution_count": 15,
   "id": "dd176294",
   "metadata": {},
   "outputs": [
    {
     "data": {
      "text/plain": [
       "CN     1279\n",
       "TMP       3\n",
       "ATA       2\n",
       "Name: country, dtype: int64"
      ]
     },
     "execution_count": 15,
     "metadata": {},
     "output_type": "execute_result"
    }
   ],
   "source": [
    "null_cont = data_clean[data_clean[\"continent\"].isnull()]\n",
    "null_cont[\"country\"].value_counts()"
   ]
  },
  {
   "cell_type": "code",
   "execution_count": 16,
   "id": "3721a11f",
   "metadata": {},
   "outputs": [],
   "source": [
    "# drop the rows with TMP & ATA\n",
    "data_clean.drop(data_clean[data_clean.country == \"TMP\"].index, inplace=True)\n",
    "data_clean.drop(data_clean[data_clean.country == \"ATA\"].index, inplace=True)\n"
   ]
  },
  {
   "cell_type": "code",
   "execution_count": 17,
   "id": "a8c5f207",
   "metadata": {},
   "outputs": [],
   "source": [
    "# for country == CN fill in the columns: \n",
    "#country_name == China, continent == Asia, sub_region == Eastern Asia\n",
    "    \n",
    "data_clean[\"country_name\"].fillna(\"China\", inplace = True)\n",
    "data_clean[\"continent\"].fillna(\"Asia\", inplace = True)\n",
    "data_clean[\"sub_region\"].fillna(\"Eastern Asia\", inplace = True)\n"
   ]
  },
  {
   "cell_type": "markdown",
   "id": "fe26429c",
   "metadata": {},
   "source": [
    "<b> 4. Handling datetime variables </b>"
   ]
  },
  {
   "cell_type": "code",
   "execution_count": 18,
   "id": "501637f1",
   "metadata": {},
   "outputs": [],
   "source": [
    "# datetime variables tasklist:\n",
    "# 1. change month name into a number - apply\n",
    "# 2. combine year + month + day colums to a date column > checkin date\n",
    "# 3. change reservation_status_date column to a date type > checkout date\n",
    "# 4. create dataset with completed bookings only \n",
    "# 5. calculate the length of stay in days for completed bookings\n",
    "# 6. choose only the bookings made max. 365 days in advance\n",
    "# 7. calcuate the date the booking was made (checkin date - lead_time)"
   ]
  },
  {
   "cell_type": "code",
   "execution_count": 19,
   "id": "11cf1c5d",
   "metadata": {},
   "outputs": [],
   "source": [
    "import datetime"
   ]
  },
  {
   "cell_type": "code",
   "execution_count": 20,
   "id": "805851ed",
   "metadata": {},
   "outputs": [],
   "source": [
    "# 1. change checkin month name into a number\n",
    "\n",
    "def month_name_to_num(months):\n",
    "    #months = df[col]\n",
    "\n",
    "    if months == \"January\":\n",
    "           return 1\n",
    "    elif months == \"February\":\n",
    "         return 2\n",
    "    elif months == \"March\":\n",
    "        return 3\n",
    "    elif months == \"April\":\n",
    "        return 4\n",
    "    elif months == \"May\":\n",
    "        return 5\n",
    "    elif months == \"June\":\n",
    "        return 6\n",
    "    elif months == \"July\":\n",
    "        return 7\n",
    "    elif months == \"August\":\n",
    "        return 8\n",
    "    elif months == \"September\":\n",
    "        return 9\n",
    "    elif months == \"October\":\n",
    "        return 10\n",
    "    elif months == \"November\":\n",
    "        return 11\n",
    "    elif months == \"December\":\n",
    "        return 12\n",
    "        "
   ]
  },
  {
   "cell_type": "code",
   "execution_count": 21,
   "id": "d33d56d6",
   "metadata": {},
   "outputs": [],
   "source": [
    "data_clean[\"arrival_date_month_num\"] = data_clean[\"arrival_date_month\"].apply(month_name_to_num)"
   ]
  },
  {
   "cell_type": "code",
   "execution_count": 22,
   "id": "a6067bb2",
   "metadata": {},
   "outputs": [],
   "source": [
    "# 2. combine year + month + day colums to a date column > checkin date\n",
    "\n",
    "data_clean['checkin_date'] = data_clean['arrival_date_year'].map(str) + '-' + data_clean['arrival_date_month_num'].map(str) + '-' + data_clean['arrival_date_day_of_month'].map(str)\n"
   ]
  },
  {
   "cell_type": "code",
   "execution_count": 23,
   "id": "ec2f1368",
   "metadata": {},
   "outputs": [
    {
     "data": {
      "text/html": [
       "<div>\n",
       "<style scoped>\n",
       "    .dataframe tbody tr th:only-of-type {\n",
       "        vertical-align: middle;\n",
       "    }\n",
       "\n",
       "    .dataframe tbody tr th {\n",
       "        vertical-align: top;\n",
       "    }\n",
       "\n",
       "    .dataframe thead th {\n",
       "        text-align: right;\n",
       "    }\n",
       "</style>\n",
       "<table border=\"1\" class=\"dataframe\">\n",
       "  <thead>\n",
       "    <tr style=\"text-align: right;\">\n",
       "      <th></th>\n",
       "      <th>hotel</th>\n",
       "      <th>lead_time</th>\n",
       "      <th>arrival_date_year</th>\n",
       "      <th>arrival_date_month</th>\n",
       "      <th>arrival_date_week_number</th>\n",
       "      <th>arrival_date_day_of_month</th>\n",
       "      <th>adults</th>\n",
       "      <th>children</th>\n",
       "      <th>babies</th>\n",
       "      <th>meal</th>\n",
       "      <th>...</th>\n",
       "      <th>adr</th>\n",
       "      <th>required_car_parking_spaces</th>\n",
       "      <th>total_of_special_requests</th>\n",
       "      <th>reservation_status</th>\n",
       "      <th>reservation_status_date</th>\n",
       "      <th>country_name</th>\n",
       "      <th>continent</th>\n",
       "      <th>sub_region</th>\n",
       "      <th>arrival_date_month_num</th>\n",
       "      <th>checkin_date</th>\n",
       "    </tr>\n",
       "  </thead>\n",
       "  <tbody>\n",
       "    <tr>\n",
       "      <th>0</th>\n",
       "      <td>Resort Hotel</td>\n",
       "      <td>342</td>\n",
       "      <td>2015</td>\n",
       "      <td>July</td>\n",
       "      <td>27</td>\n",
       "      <td>1</td>\n",
       "      <td>2</td>\n",
       "      <td>0.0</td>\n",
       "      <td>0</td>\n",
       "      <td>BB</td>\n",
       "      <td>...</td>\n",
       "      <td>0.0</td>\n",
       "      <td>0</td>\n",
       "      <td>0</td>\n",
       "      <td>Check-Out</td>\n",
       "      <td>2015-07-01</td>\n",
       "      <td>Portugal</td>\n",
       "      <td>Europe</td>\n",
       "      <td>Southern Europe</td>\n",
       "      <td>7</td>\n",
       "      <td>2015-7-1</td>\n",
       "    </tr>\n",
       "    <tr>\n",
       "      <th>1</th>\n",
       "      <td>Resort Hotel</td>\n",
       "      <td>737</td>\n",
       "      <td>2015</td>\n",
       "      <td>July</td>\n",
       "      <td>27</td>\n",
       "      <td>1</td>\n",
       "      <td>2</td>\n",
       "      <td>0.0</td>\n",
       "      <td>0</td>\n",
       "      <td>BB</td>\n",
       "      <td>...</td>\n",
       "      <td>0.0</td>\n",
       "      <td>0</td>\n",
       "      <td>0</td>\n",
       "      <td>Check-Out</td>\n",
       "      <td>2015-07-01</td>\n",
       "      <td>Portugal</td>\n",
       "      <td>Europe</td>\n",
       "      <td>Southern Europe</td>\n",
       "      <td>7</td>\n",
       "      <td>2015-7-1</td>\n",
       "    </tr>\n",
       "    <tr>\n",
       "      <th>2</th>\n",
       "      <td>Resort Hotel</td>\n",
       "      <td>7</td>\n",
       "      <td>2015</td>\n",
       "      <td>July</td>\n",
       "      <td>27</td>\n",
       "      <td>1</td>\n",
       "      <td>1</td>\n",
       "      <td>0.0</td>\n",
       "      <td>0</td>\n",
       "      <td>BB</td>\n",
       "      <td>...</td>\n",
       "      <td>75.0</td>\n",
       "      <td>0</td>\n",
       "      <td>0</td>\n",
       "      <td>Check-Out</td>\n",
       "      <td>2015-07-02</td>\n",
       "      <td>United Kingdom</td>\n",
       "      <td>Europe</td>\n",
       "      <td>Northern Europe</td>\n",
       "      <td>7</td>\n",
       "      <td>2015-7-1</td>\n",
       "    </tr>\n",
       "    <tr>\n",
       "      <th>3</th>\n",
       "      <td>Resort Hotel</td>\n",
       "      <td>13</td>\n",
       "      <td>2015</td>\n",
       "      <td>July</td>\n",
       "      <td>27</td>\n",
       "      <td>1</td>\n",
       "      <td>1</td>\n",
       "      <td>0.0</td>\n",
       "      <td>0</td>\n",
       "      <td>BB</td>\n",
       "      <td>...</td>\n",
       "      <td>75.0</td>\n",
       "      <td>0</td>\n",
       "      <td>0</td>\n",
       "      <td>Check-Out</td>\n",
       "      <td>2015-07-02</td>\n",
       "      <td>United Kingdom</td>\n",
       "      <td>Europe</td>\n",
       "      <td>Northern Europe</td>\n",
       "      <td>7</td>\n",
       "      <td>2015-7-1</td>\n",
       "    </tr>\n",
       "    <tr>\n",
       "      <th>4</th>\n",
       "      <td>Resort Hotel</td>\n",
       "      <td>14</td>\n",
       "      <td>2015</td>\n",
       "      <td>July</td>\n",
       "      <td>27</td>\n",
       "      <td>1</td>\n",
       "      <td>2</td>\n",
       "      <td>0.0</td>\n",
       "      <td>0</td>\n",
       "      <td>BB</td>\n",
       "      <td>...</td>\n",
       "      <td>98.0</td>\n",
       "      <td>0</td>\n",
       "      <td>1</td>\n",
       "      <td>Check-Out</td>\n",
       "      <td>2015-07-03</td>\n",
       "      <td>United Kingdom</td>\n",
       "      <td>Europe</td>\n",
       "      <td>Northern Europe</td>\n",
       "      <td>7</td>\n",
       "      <td>2015-7-1</td>\n",
       "    </tr>\n",
       "  </tbody>\n",
       "</table>\n",
       "<p>5 rows × 23 columns</p>\n",
       "</div>"
      ],
      "text/plain": [
       "          hotel  lead_time  arrival_date_year arrival_date_month  \\\n",
       "0  Resort Hotel        342               2015               July   \n",
       "1  Resort Hotel        737               2015               July   \n",
       "2  Resort Hotel          7               2015               July   \n",
       "3  Resort Hotel         13               2015               July   \n",
       "4  Resort Hotel         14               2015               July   \n",
       "\n",
       "   arrival_date_week_number  arrival_date_day_of_month  adults  children  \\\n",
       "0                        27                          1       2       0.0   \n",
       "1                        27                          1       2       0.0   \n",
       "2                        27                          1       1       0.0   \n",
       "3                        27                          1       1       0.0   \n",
       "4                        27                          1       2       0.0   \n",
       "\n",
       "   babies meal  ...   adr required_car_parking_spaces  \\\n",
       "0       0   BB  ...   0.0                           0   \n",
       "1       0   BB  ...   0.0                           0   \n",
       "2       0   BB  ...  75.0                           0   \n",
       "3       0   BB  ...  75.0                           0   \n",
       "4       0   BB  ...  98.0                           0   \n",
       "\n",
       "  total_of_special_requests  reservation_status  reservation_status_date  \\\n",
       "0                         0           Check-Out               2015-07-01   \n",
       "1                         0           Check-Out               2015-07-01   \n",
       "2                         0           Check-Out               2015-07-02   \n",
       "3                         0           Check-Out               2015-07-02   \n",
       "4                         1           Check-Out               2015-07-03   \n",
       "\n",
       "     country_name continent       sub_region arrival_date_month_num  \\\n",
       "0        Portugal    Europe  Southern Europe                      7   \n",
       "1        Portugal    Europe  Southern Europe                      7   \n",
       "2  United Kingdom    Europe  Northern Europe                      7   \n",
       "3  United Kingdom    Europe  Northern Europe                      7   \n",
       "4  United Kingdom    Europe  Northern Europe                      7   \n",
       "\n",
       "  checkin_date  \n",
       "0     2015-7-1  \n",
       "1     2015-7-1  \n",
       "2     2015-7-1  \n",
       "3     2015-7-1  \n",
       "4     2015-7-1  \n",
       "\n",
       "[5 rows x 23 columns]"
      ]
     },
     "execution_count": 23,
     "metadata": {},
     "output_type": "execute_result"
    }
   ],
   "source": [
    "data_clean[data_clean[\"arrival_date_month\"] == \"July\"].head()"
   ]
  },
  {
   "cell_type": "code",
   "execution_count": 24,
   "id": "f5aadad5",
   "metadata": {},
   "outputs": [],
   "source": [
    "# 3. change checkin_date & reservation_status_date column to a date type > checkout date\n",
    "\n",
    "data_clean[[\"checkin_date\", \"reservation_status_date\"]] = data_clean[[\"checkin_date\", \"reservation_status_date\"]].apply(pd.to_datetime)"
   ]
  },
  {
   "cell_type": "code",
   "execution_count": 25,
   "id": "fbd29c07",
   "metadata": {},
   "outputs": [
    {
     "data": {
      "text/plain": [
       "array(['Check-Out', 'Canceled', 'No-Show'], dtype=object)"
      ]
     },
     "execution_count": 25,
     "metadata": {},
     "output_type": "execute_result"
    }
   ],
   "source": [
    "# 4. create dataset with completed bookings only - the analysis will focus on those\n",
    "data_clean[\"reservation_status\"].unique()"
   ]
  },
  {
   "cell_type": "code",
   "execution_count": 26,
   "id": "ba6fc498",
   "metadata": {},
   "outputs": [
    {
     "data": {
      "text/plain": [
       "Check-Out    74741\n",
       "Canceled     42953\n",
       "No-Show       1203\n",
       "Name: reservation_status, dtype: int64"
      ]
     },
     "execution_count": 26,
     "metadata": {},
     "output_type": "execute_result"
    }
   ],
   "source": [
    "data_clean[\"reservation_status\"].value_counts()\n",
    "\n",
    "# 74741 completed bookings > extract only completed (checked out) bookings"
   ]
  },
  {
   "cell_type": "code",
   "execution_count": 27,
   "id": "38cea8a5",
   "metadata": {},
   "outputs": [],
   "source": [
    "data_clean_completed = data_clean[data_clean[\"reservation_status\"] == 'Check-Out']\n"
   ]
  },
  {
   "cell_type": "code",
   "execution_count": 28,
   "id": "d3a0d05d",
   "metadata": {},
   "outputs": [],
   "source": [
    "# 5. calculate the length of stay in days for completed bookings\n",
    "\n",
    "data_clean_completed['reservation_status_date'] = pd.to_datetime(data_clean_completed['reservation_status_date'], \n",
    "format='%Y-%m-%d')\n",
    "data_clean_completed['checkin_date'] = pd.to_datetime(data_clean_completed['checkin_date'], \n",
    "format='%Y-%m-%d')\n",
    "data_clean_completed['length_of_stay'] =  data_clean_completed['reservation_status_date'] - data_clean_completed['checkin_date']"
   ]
  },
  {
   "cell_type": "code",
   "execution_count": 29,
   "id": "ee71007c",
   "metadata": {},
   "outputs": [],
   "source": [
    "# change the length of stay datatype to int\n",
    "data_clean_completed['length_of_stay'] = data_clean_completed['length_of_stay'].dt.days.astype('int16')"
   ]
  },
  {
   "cell_type": "code",
   "execution_count": 30,
   "id": "936622e0",
   "metadata": {},
   "outputs": [
    {
     "data": {
      "text/plain": [
       "count    74741.000000\n",
       "mean         3.395245\n",
       "std          2.556943\n",
       "min          0.000000\n",
       "25%          2.000000\n",
       "50%          3.000000\n",
       "75%          4.000000\n",
       "max         57.000000\n",
       "Name: length_of_stay, dtype: float64"
      ]
     },
     "execution_count": 30,
     "metadata": {},
     "output_type": "execute_result"
    }
   ],
   "source": [
    "# there are stays with checkin and checkout in the same day\n",
    "data_clean_completed[\"length_of_stay\"].describe()"
   ]
  },
  {
   "cell_type": "code",
   "execution_count": 31,
   "id": "3bab0c59",
   "metadata": {},
   "outputs": [
    {
     "data": {
      "text/plain": [
       "(701, 24)"
      ]
     },
     "execution_count": 31,
     "metadata": {},
     "output_type": "execute_result"
    }
   ],
   "source": [
    "# there are stays that ended the same day, for the purpose of this analytis let´s delete those rows\n",
    "data_clean_completed[data_clean_completed[\"length_of_stay\"] == 0].shape"
   ]
  },
  {
   "cell_type": "code",
   "execution_count": 32,
   "id": "cadc977b",
   "metadata": {},
   "outputs": [],
   "source": [
    "data_clean_completed = data_clean_completed[data_clean_completed[\"length_of_stay\"] != 0]"
   ]
  },
  {
   "cell_type": "code",
   "execution_count": 33,
   "id": "675ffadd",
   "metadata": {},
   "outputs": [
    {
     "data": {
      "text/plain": [
       "(1015, 24)"
      ]
     },
     "execution_count": 33,
     "metadata": {},
     "output_type": "execute_result"
    }
   ],
   "source": [
    "# 6. choose only the bookings made max. 365 days in advance\n",
    "# there are 1015 bookings with the lead time over 1 year, for the purpose of this analysis let´s drop them\n",
    "data_clean_completed[data_clean_completed['lead_time'] > 365].shape"
   ]
  },
  {
   "cell_type": "code",
   "execution_count": 34,
   "id": "52efe43c",
   "metadata": {},
   "outputs": [],
   "source": [
    "data_clean_completed = data_clean_completed[data_clean_completed['lead_time'] <= 365]\n"
   ]
  },
  {
   "cell_type": "code",
   "execution_count": 35,
   "id": "836b4053",
   "metadata": {},
   "outputs": [
    {
     "data": {
      "text/plain": [
       "(73025, 24)"
      ]
     },
     "execution_count": 35,
     "metadata": {},
     "output_type": "execute_result"
    }
   ],
   "source": [
    "data_clean_completed[data_clean_completed['lead_time'] <= 365].shape"
   ]
  },
  {
   "cell_type": "code",
   "execution_count": 36,
   "id": "40399f18",
   "metadata": {},
   "outputs": [],
   "source": [
    "# 7. calcuate the date the booking was made (checkin date - lead_time)\n",
    "data_clean_completed[\"lead_time_days\"] = pd.to_timedelta(data_clean_completed[\"lead_time\"], unit='D')\n"
   ]
  },
  {
   "cell_type": "code",
   "execution_count": 37,
   "id": "2042eec3",
   "metadata": {},
   "outputs": [],
   "source": [
    "data_clean_completed['booking_date'] = data_clean_completed['checkin_date'] -  pd.to_timedelta(data_clean_completed['lead_time_days'], unit='D')"
   ]
  },
  {
   "cell_type": "code",
   "execution_count": 38,
   "id": "13e723a5",
   "metadata": {},
   "outputs": [
    {
     "data": {
      "text/html": [
       "<div>\n",
       "<style scoped>\n",
       "    .dataframe tbody tr th:only-of-type {\n",
       "        vertical-align: middle;\n",
       "    }\n",
       "\n",
       "    .dataframe tbody tr th {\n",
       "        vertical-align: top;\n",
       "    }\n",
       "\n",
       "    .dataframe thead th {\n",
       "        text-align: right;\n",
       "    }\n",
       "</style>\n",
       "<table border=\"1\" class=\"dataframe\">\n",
       "  <thead>\n",
       "    <tr style=\"text-align: right;\">\n",
       "      <th></th>\n",
       "      <th>hotel</th>\n",
       "      <th>lead_time</th>\n",
       "      <th>arrival_date_year</th>\n",
       "      <th>arrival_date_month</th>\n",
       "      <th>arrival_date_week_number</th>\n",
       "      <th>arrival_date_day_of_month</th>\n",
       "      <th>adults</th>\n",
       "      <th>children</th>\n",
       "      <th>babies</th>\n",
       "      <th>meal</th>\n",
       "      <th>...</th>\n",
       "      <th>reservation_status</th>\n",
       "      <th>reservation_status_date</th>\n",
       "      <th>country_name</th>\n",
       "      <th>continent</th>\n",
       "      <th>sub_region</th>\n",
       "      <th>arrival_date_month_num</th>\n",
       "      <th>checkin_date</th>\n",
       "      <th>length_of_stay</th>\n",
       "      <th>lead_time_days</th>\n",
       "      <th>booking_date</th>\n",
       "    </tr>\n",
       "  </thead>\n",
       "  <tbody>\n",
       "    <tr>\n",
       "      <th>2</th>\n",
       "      <td>Resort Hotel</td>\n",
       "      <td>7</td>\n",
       "      <td>2015</td>\n",
       "      <td>July</td>\n",
       "      <td>27</td>\n",
       "      <td>1</td>\n",
       "      <td>1</td>\n",
       "      <td>0.0</td>\n",
       "      <td>0</td>\n",
       "      <td>BB</td>\n",
       "      <td>...</td>\n",
       "      <td>Check-Out</td>\n",
       "      <td>2015-07-02</td>\n",
       "      <td>United Kingdom</td>\n",
       "      <td>Europe</td>\n",
       "      <td>Northern Europe</td>\n",
       "      <td>7</td>\n",
       "      <td>2015-07-01</td>\n",
       "      <td>1</td>\n",
       "      <td>7 days</td>\n",
       "      <td>2015-06-24</td>\n",
       "    </tr>\n",
       "    <tr>\n",
       "      <th>3</th>\n",
       "      <td>Resort Hotel</td>\n",
       "      <td>13</td>\n",
       "      <td>2015</td>\n",
       "      <td>July</td>\n",
       "      <td>27</td>\n",
       "      <td>1</td>\n",
       "      <td>1</td>\n",
       "      <td>0.0</td>\n",
       "      <td>0</td>\n",
       "      <td>BB</td>\n",
       "      <td>...</td>\n",
       "      <td>Check-Out</td>\n",
       "      <td>2015-07-02</td>\n",
       "      <td>United Kingdom</td>\n",
       "      <td>Europe</td>\n",
       "      <td>Northern Europe</td>\n",
       "      <td>7</td>\n",
       "      <td>2015-07-01</td>\n",
       "      <td>1</td>\n",
       "      <td>13 days</td>\n",
       "      <td>2015-06-18</td>\n",
       "    </tr>\n",
       "    <tr>\n",
       "      <th>4</th>\n",
       "      <td>Resort Hotel</td>\n",
       "      <td>14</td>\n",
       "      <td>2015</td>\n",
       "      <td>July</td>\n",
       "      <td>27</td>\n",
       "      <td>1</td>\n",
       "      <td>2</td>\n",
       "      <td>0.0</td>\n",
       "      <td>0</td>\n",
       "      <td>BB</td>\n",
       "      <td>...</td>\n",
       "      <td>Check-Out</td>\n",
       "      <td>2015-07-03</td>\n",
       "      <td>United Kingdom</td>\n",
       "      <td>Europe</td>\n",
       "      <td>Northern Europe</td>\n",
       "      <td>7</td>\n",
       "      <td>2015-07-01</td>\n",
       "      <td>2</td>\n",
       "      <td>14 days</td>\n",
       "      <td>2015-06-17</td>\n",
       "    </tr>\n",
       "    <tr>\n",
       "      <th>5</th>\n",
       "      <td>Resort Hotel</td>\n",
       "      <td>14</td>\n",
       "      <td>2015</td>\n",
       "      <td>July</td>\n",
       "      <td>27</td>\n",
       "      <td>1</td>\n",
       "      <td>2</td>\n",
       "      <td>0.0</td>\n",
       "      <td>0</td>\n",
       "      <td>BB</td>\n",
       "      <td>...</td>\n",
       "      <td>Check-Out</td>\n",
       "      <td>2015-07-03</td>\n",
       "      <td>United Kingdom</td>\n",
       "      <td>Europe</td>\n",
       "      <td>Northern Europe</td>\n",
       "      <td>7</td>\n",
       "      <td>2015-07-01</td>\n",
       "      <td>2</td>\n",
       "      <td>14 days</td>\n",
       "      <td>2015-06-17</td>\n",
       "    </tr>\n",
       "    <tr>\n",
       "      <th>6</th>\n",
       "      <td>Resort Hotel</td>\n",
       "      <td>0</td>\n",
       "      <td>2015</td>\n",
       "      <td>July</td>\n",
       "      <td>27</td>\n",
       "      <td>1</td>\n",
       "      <td>2</td>\n",
       "      <td>0.0</td>\n",
       "      <td>0</td>\n",
       "      <td>BB</td>\n",
       "      <td>...</td>\n",
       "      <td>Check-Out</td>\n",
       "      <td>2015-07-03</td>\n",
       "      <td>Portugal</td>\n",
       "      <td>Europe</td>\n",
       "      <td>Southern Europe</td>\n",
       "      <td>7</td>\n",
       "      <td>2015-07-01</td>\n",
       "      <td>2</td>\n",
       "      <td>0 days</td>\n",
       "      <td>2015-07-01</td>\n",
       "    </tr>\n",
       "  </tbody>\n",
       "</table>\n",
       "<p>5 rows × 26 columns</p>\n",
       "</div>"
      ],
      "text/plain": [
       "          hotel  lead_time  arrival_date_year arrival_date_month  \\\n",
       "2  Resort Hotel          7               2015               July   \n",
       "3  Resort Hotel         13               2015               July   \n",
       "4  Resort Hotel         14               2015               July   \n",
       "5  Resort Hotel         14               2015               July   \n",
       "6  Resort Hotel          0               2015               July   \n",
       "\n",
       "   arrival_date_week_number  arrival_date_day_of_month  adults  children  \\\n",
       "2                        27                          1       1       0.0   \n",
       "3                        27                          1       1       0.0   \n",
       "4                        27                          1       2       0.0   \n",
       "5                        27                          1       2       0.0   \n",
       "6                        27                          1       2       0.0   \n",
       "\n",
       "   babies meal  ... reservation_status reservation_status_date  \\\n",
       "2       0   BB  ...          Check-Out              2015-07-02   \n",
       "3       0   BB  ...          Check-Out              2015-07-02   \n",
       "4       0   BB  ...          Check-Out              2015-07-03   \n",
       "5       0   BB  ...          Check-Out              2015-07-03   \n",
       "6       0   BB  ...          Check-Out              2015-07-03   \n",
       "\n",
       "     country_name  continent       sub_region  arrival_date_month_num  \\\n",
       "2  United Kingdom     Europe  Northern Europe                       7   \n",
       "3  United Kingdom     Europe  Northern Europe                       7   \n",
       "4  United Kingdom     Europe  Northern Europe                       7   \n",
       "5  United Kingdom     Europe  Northern Europe                       7   \n",
       "6        Portugal     Europe  Southern Europe                       7   \n",
       "\n",
       "  checkin_date length_of_stay lead_time_days booking_date  \n",
       "2   2015-07-01              1         7 days   2015-06-24  \n",
       "3   2015-07-01              1        13 days   2015-06-18  \n",
       "4   2015-07-01              2        14 days   2015-06-17  \n",
       "5   2015-07-01              2        14 days   2015-06-17  \n",
       "6   2015-07-01              2         0 days   2015-07-01  \n",
       "\n",
       "[5 rows x 26 columns]"
      ]
     },
     "execution_count": 38,
     "metadata": {},
     "output_type": "execute_result"
    }
   ],
   "source": [
    "data_clean_completed.head()"
   ]
  },
  {
   "cell_type": "code",
   "execution_count": 39,
   "id": "d57e4537",
   "metadata": {},
   "outputs": [],
   "source": [
    "# extract year-month / year-week /  weekday of the booking date\n",
    "\n",
    "def date_conversion(df, varDate):\n",
    "      \"\"\"\n",
    "      Function to convert the dates into week-year, week and week-Day\n",
    "      inputs: df = dataframe\n",
    "              varDate = variable that contains the dates to convert\n",
    "      \"\"\"\n",
    "      df[varDate] = pd.to_datetime(df[varDate]) # transform the variable into a datetime\n",
    "      df['month-year'] = df[varDate].dt.strftime('%Y-%m') \n",
    "      df['weekDay'] = df[varDate].dt.strftime('%A')\n",
    "      df['month-week'] = df[varDate].dt.strftime('%Y-%V')\n",
    "      return df"
   ]
  },
  {
   "cell_type": "code",
   "execution_count": 40,
   "id": "231ae9ae",
   "metadata": {},
   "outputs": [
    {
     "data": {
      "text/html": [
       "<div>\n",
       "<style scoped>\n",
       "    .dataframe tbody tr th:only-of-type {\n",
       "        vertical-align: middle;\n",
       "    }\n",
       "\n",
       "    .dataframe tbody tr th {\n",
       "        vertical-align: top;\n",
       "    }\n",
       "\n",
       "    .dataframe thead th {\n",
       "        text-align: right;\n",
       "    }\n",
       "</style>\n",
       "<table border=\"1\" class=\"dataframe\">\n",
       "  <thead>\n",
       "    <tr style=\"text-align: right;\">\n",
       "      <th></th>\n",
       "      <th>hotel</th>\n",
       "      <th>lead_time</th>\n",
       "      <th>arrival_date_year</th>\n",
       "      <th>arrival_date_month</th>\n",
       "      <th>arrival_date_week_number</th>\n",
       "      <th>arrival_date_day_of_month</th>\n",
       "      <th>adults</th>\n",
       "      <th>children</th>\n",
       "      <th>babies</th>\n",
       "      <th>meal</th>\n",
       "      <th>...</th>\n",
       "      <th>continent</th>\n",
       "      <th>sub_region</th>\n",
       "      <th>arrival_date_month_num</th>\n",
       "      <th>checkin_date</th>\n",
       "      <th>length_of_stay</th>\n",
       "      <th>lead_time_days</th>\n",
       "      <th>booking_date</th>\n",
       "      <th>month-year</th>\n",
       "      <th>weekDay</th>\n",
       "      <th>month-week</th>\n",
       "    </tr>\n",
       "  </thead>\n",
       "  <tbody>\n",
       "    <tr>\n",
       "      <th>2</th>\n",
       "      <td>Resort Hotel</td>\n",
       "      <td>7</td>\n",
       "      <td>2015</td>\n",
       "      <td>July</td>\n",
       "      <td>27</td>\n",
       "      <td>1</td>\n",
       "      <td>1</td>\n",
       "      <td>0.0</td>\n",
       "      <td>0</td>\n",
       "      <td>BB</td>\n",
       "      <td>...</td>\n",
       "      <td>Europe</td>\n",
       "      <td>Northern Europe</td>\n",
       "      <td>7</td>\n",
       "      <td>2015-07-01</td>\n",
       "      <td>1</td>\n",
       "      <td>7 days</td>\n",
       "      <td>2015-06-24</td>\n",
       "      <td>2015-06</td>\n",
       "      <td>Wednesday</td>\n",
       "      <td>2015-26</td>\n",
       "    </tr>\n",
       "    <tr>\n",
       "      <th>3</th>\n",
       "      <td>Resort Hotel</td>\n",
       "      <td>13</td>\n",
       "      <td>2015</td>\n",
       "      <td>July</td>\n",
       "      <td>27</td>\n",
       "      <td>1</td>\n",
       "      <td>1</td>\n",
       "      <td>0.0</td>\n",
       "      <td>0</td>\n",
       "      <td>BB</td>\n",
       "      <td>...</td>\n",
       "      <td>Europe</td>\n",
       "      <td>Northern Europe</td>\n",
       "      <td>7</td>\n",
       "      <td>2015-07-01</td>\n",
       "      <td>1</td>\n",
       "      <td>13 days</td>\n",
       "      <td>2015-06-18</td>\n",
       "      <td>2015-06</td>\n",
       "      <td>Thursday</td>\n",
       "      <td>2015-25</td>\n",
       "    </tr>\n",
       "    <tr>\n",
       "      <th>4</th>\n",
       "      <td>Resort Hotel</td>\n",
       "      <td>14</td>\n",
       "      <td>2015</td>\n",
       "      <td>July</td>\n",
       "      <td>27</td>\n",
       "      <td>1</td>\n",
       "      <td>2</td>\n",
       "      <td>0.0</td>\n",
       "      <td>0</td>\n",
       "      <td>BB</td>\n",
       "      <td>...</td>\n",
       "      <td>Europe</td>\n",
       "      <td>Northern Europe</td>\n",
       "      <td>7</td>\n",
       "      <td>2015-07-01</td>\n",
       "      <td>2</td>\n",
       "      <td>14 days</td>\n",
       "      <td>2015-06-17</td>\n",
       "      <td>2015-06</td>\n",
       "      <td>Wednesday</td>\n",
       "      <td>2015-25</td>\n",
       "    </tr>\n",
       "    <tr>\n",
       "      <th>5</th>\n",
       "      <td>Resort Hotel</td>\n",
       "      <td>14</td>\n",
       "      <td>2015</td>\n",
       "      <td>July</td>\n",
       "      <td>27</td>\n",
       "      <td>1</td>\n",
       "      <td>2</td>\n",
       "      <td>0.0</td>\n",
       "      <td>0</td>\n",
       "      <td>BB</td>\n",
       "      <td>...</td>\n",
       "      <td>Europe</td>\n",
       "      <td>Northern Europe</td>\n",
       "      <td>7</td>\n",
       "      <td>2015-07-01</td>\n",
       "      <td>2</td>\n",
       "      <td>14 days</td>\n",
       "      <td>2015-06-17</td>\n",
       "      <td>2015-06</td>\n",
       "      <td>Wednesday</td>\n",
       "      <td>2015-25</td>\n",
       "    </tr>\n",
       "    <tr>\n",
       "      <th>6</th>\n",
       "      <td>Resort Hotel</td>\n",
       "      <td>0</td>\n",
       "      <td>2015</td>\n",
       "      <td>July</td>\n",
       "      <td>27</td>\n",
       "      <td>1</td>\n",
       "      <td>2</td>\n",
       "      <td>0.0</td>\n",
       "      <td>0</td>\n",
       "      <td>BB</td>\n",
       "      <td>...</td>\n",
       "      <td>Europe</td>\n",
       "      <td>Southern Europe</td>\n",
       "      <td>7</td>\n",
       "      <td>2015-07-01</td>\n",
       "      <td>2</td>\n",
       "      <td>0 days</td>\n",
       "      <td>2015-07-01</td>\n",
       "      <td>2015-07</td>\n",
       "      <td>Wednesday</td>\n",
       "      <td>2015-27</td>\n",
       "    </tr>\n",
       "  </tbody>\n",
       "</table>\n",
       "<p>5 rows × 29 columns</p>\n",
       "</div>"
      ],
      "text/plain": [
       "          hotel  lead_time  arrival_date_year arrival_date_month  \\\n",
       "2  Resort Hotel          7               2015               July   \n",
       "3  Resort Hotel         13               2015               July   \n",
       "4  Resort Hotel         14               2015               July   \n",
       "5  Resort Hotel         14               2015               July   \n",
       "6  Resort Hotel          0               2015               July   \n",
       "\n",
       "   arrival_date_week_number  arrival_date_day_of_month  adults  children  \\\n",
       "2                        27                          1       1       0.0   \n",
       "3                        27                          1       1       0.0   \n",
       "4                        27                          1       2       0.0   \n",
       "5                        27                          1       2       0.0   \n",
       "6                        27                          1       2       0.0   \n",
       "\n",
       "   babies meal  ... continent       sub_region arrival_date_month_num  \\\n",
       "2       0   BB  ...    Europe  Northern Europe                      7   \n",
       "3       0   BB  ...    Europe  Northern Europe                      7   \n",
       "4       0   BB  ...    Europe  Northern Europe                      7   \n",
       "5       0   BB  ...    Europe  Northern Europe                      7   \n",
       "6       0   BB  ...    Europe  Southern Europe                      7   \n",
       "\n",
       "   checkin_date  length_of_stay  lead_time_days booking_date month-year  \\\n",
       "2    2015-07-01               1          7 days   2015-06-24    2015-06   \n",
       "3    2015-07-01               1         13 days   2015-06-18    2015-06   \n",
       "4    2015-07-01               2         14 days   2015-06-17    2015-06   \n",
       "5    2015-07-01               2         14 days   2015-06-17    2015-06   \n",
       "6    2015-07-01               2          0 days   2015-07-01    2015-07   \n",
       "\n",
       "     weekDay month-week  \n",
       "2  Wednesday    2015-26  \n",
       "3   Thursday    2015-25  \n",
       "4  Wednesday    2015-25  \n",
       "5  Wednesday    2015-25  \n",
       "6  Wednesday    2015-27  \n",
       "\n",
       "[5 rows x 29 columns]"
      ]
     },
     "execution_count": 40,
     "metadata": {},
     "output_type": "execute_result"
    }
   ],
   "source": [
    "date_conversion(data_clean_completed, \"booking_date\").head()"
   ]
  },
  {
   "cell_type": "code",
   "execution_count": 41,
   "id": "865590ce",
   "metadata": {},
   "outputs": [],
   "source": [
    "data_clean_completed.rename(columns = {'month-year':'booking_month_year', \"weekDay\": \"booking_weekday\"}, inplace = True)"
   ]
  },
  {
   "cell_type": "code",
   "execution_count": 42,
   "id": "33710d6f",
   "metadata": {},
   "outputs": [],
   "source": [
    "# extract year-week of the check-in date\n",
    "data_clean_completed['checkin_week_year'] = data_clean_completed[\"checkin_date\"].dt.strftime('%Y-%V')"
   ]
  },
  {
   "cell_type": "code",
   "execution_count": 43,
   "id": "baee1ff8",
   "metadata": {},
   "outputs": [],
   "source": [
    "# extract year-month of the check-in date\n",
    "data_clean_completed['checkin_month_year'] = data_clean_completed[\"checkin_date\"].dt.strftime('%Y-%m')"
   ]
  },
  {
   "cell_type": "markdown",
   "id": "0ab29580",
   "metadata": {},
   "source": [
    "<b>Checkpoint export</b>"
   ]
  },
  {
   "cell_type": "code",
   "execution_count": 44,
   "id": "87850da1",
   "metadata": {},
   "outputs": [],
   "source": [
    "# seperate the dataset for each hotel type to handle ADR values\n",
    "data_resort = data_clean_completed[data_clean_completed[\"hotel\"] == 'Resort Hotel']\n",
    "data_city = data_clean_completed[data_clean_completed[\"hotel\"] == 'City Hotel']\n"
   ]
  },
  {
   "cell_type": "code",
   "execution_count": 45,
   "id": "c8bf2d23",
   "metadata": {},
   "outputs": [],
   "source": [
    "data_resort.to_csv(\"data_resort.csv\")"
   ]
  },
  {
   "cell_type": "code",
   "execution_count": 46,
   "id": "38f42b91",
   "metadata": {},
   "outputs": [],
   "source": [
    "data_city.to_csv(\"data_city.csv\")"
   ]
  },
  {
   "cell_type": "code",
   "execution_count": 47,
   "id": "5be2fbe1",
   "metadata": {},
   "outputs": [],
   "source": [
    "data_clean_completed.to_csv(\"data_clean_completed.csv\")"
   ]
  },
  {
   "cell_type": "code",
   "execution_count": 48,
   "id": "7e23e2e2",
   "metadata": {},
   "outputs": [],
   "source": [
    "data_clean.to_csv(\"data_clean.csv\")"
   ]
  },
  {
   "cell_type": "markdown",
   "id": "d0f7fc38",
   "metadata": {},
   "source": [
    "<b> 5. Handling monetary variables - ADR </b>"
   ]
  },
  {
   "cell_type": "code",
   "execution_count": 49,
   "id": "10357402",
   "metadata": {},
   "outputs": [
    {
     "data": {
      "text/plain": [
       "count    45128.000000\n",
       "mean       106.394168\n",
       "std         40.042727\n",
       "min          0.000000\n",
       "25%         80.000000\n",
       "50%         99.450000\n",
       "75%        126.900000\n",
       "max        510.000000\n",
       "Name: adr, dtype: float64"
      ]
     },
     "execution_count": 49,
     "metadata": {},
     "output_type": "execute_result"
    }
   ],
   "source": [
    "# city dataset\n",
    "data_city.adr.describe()"
   ]
  },
  {
   "cell_type": "code",
   "execution_count": 50,
   "id": "5322620c",
   "metadata": {},
   "outputs": [],
   "source": [
    "# drop all the adr below 30€ (min hotel´s rate)\n",
    "data_city.drop(data_city[data_city[\"adr\"] <= 30].index, inplace=True)"
   ]
  },
  {
   "cell_type": "code",
   "execution_count": 51,
   "id": "23684ec7",
   "metadata": {},
   "outputs": [
    {
     "data": {
      "text/plain": [
       "count    27897.000000\n",
       "mean        92.684122\n",
       "std         58.982524\n",
       "min         -6.380000\n",
       "25%         50.000000\n",
       "50%         74.000000\n",
       "75%        120.000000\n",
       "max        508.000000\n",
       "Name: adr, dtype: float64"
      ]
     },
     "execution_count": 51,
     "metadata": {},
     "output_type": "execute_result"
    }
   ],
   "source": [
    "# resort dataset\n",
    "data_resort.adr.describe()"
   ]
  },
  {
   "cell_type": "code",
   "execution_count": 52,
   "id": "983b8b4e",
   "metadata": {},
   "outputs": [],
   "source": [
    "# drop all the adr below 30€ (min hotel´s rate)\n",
    "data_resort.drop(data_resort[data_resort[\"adr\"] <= 30].index, inplace=True)"
   ]
  },
  {
   "cell_type": "code",
   "execution_count": 53,
   "id": "e7540531",
   "metadata": {},
   "outputs": [],
   "source": [
    "# to get more average data we apply IQR over the datasets\n",
    "\n",
    "def outlier_treatment(df, colname):\n",
    "    \"\"\"\n",
    "    Function that drops the Outliers based on the IQR upper and lower boundaries\n",
    "    input: df --> dataframe\n",
    "           colname --> str, name of the column\n",
    "\n",
    "    \"\"\"\n",
    "\n",
    "    # Calculate the percentiles and the IQR\n",
    "    Q1,Q3 = np.percentile(df[colname], [25,75])\n",
    "    IQR = Q3 - Q1\n",
    "    \n",
    "    # Calculate the upper and lower limit\n",
    "    lower_limit = Q1 - (1.5 * IQR)\n",
    "    upper_limit = Q3 + (1.5 * IQR)\n",
    "    \n",
    "    # Drop the suspected outliers\n",
    "    df_clean = df[(df[colname] > lower_limit) & (df[colname] < upper_limit)]\n",
    "    \n",
    "    print('Shape of the raw data:', df.shape)\n",
    "    print('..................')\n",
    "    print('Shape of the cleaned data:', df_clean.shape)\n",
    "    return df_clean"
   ]
  },
  {
   "cell_type": "code",
   "execution_count": 54,
   "id": "ab78ab31",
   "metadata": {},
   "outputs": [
    {
     "name": "stdout",
     "output_type": "stream",
     "text": [
      "Shape of the raw data: (44228, 31)\n",
      "..................\n",
      "Shape of the cleaned data: (43027, 31)\n"
     ]
    }
   ],
   "source": [
    "data_city = outlier_treatment(data_city, \"adr\")"
   ]
  },
  {
   "cell_type": "code",
   "execution_count": 55,
   "id": "a3d72434",
   "metadata": {},
   "outputs": [
    {
     "name": "stdout",
     "output_type": "stream",
     "text": [
      "Shape of the raw data: (26620, 31)\n",
      "..................\n",
      "Shape of the cleaned data: (25557, 31)\n"
     ]
    }
   ],
   "source": [
    "data_resort = outlier_treatment(data_resort, \"adr\")"
   ]
  },
  {
   "cell_type": "code",
   "execution_count": 56,
   "id": "dd5d8c8b",
   "metadata": {},
   "outputs": [],
   "source": [
    "# resetting index\n",
    "data_city = data_city.reset_index(drop=True)\n",
    "data_resort = data_resort.reset_index(drop=True)\n"
   ]
  },
  {
   "cell_type": "code",
   "execution_count": 57,
   "id": "920d54f8",
   "metadata": {},
   "outputs": [],
   "source": [
    "# Once we´ve handled the ADR data we can concatenate the dataset again\n",
    "df_ok = pd.concat([data_city, data_resort])\n"
   ]
  },
  {
   "cell_type": "code",
   "execution_count": 58,
   "id": "78e7ad29",
   "metadata": {},
   "outputs": [],
   "source": [
    "df_ok = df_ok.reset_index(drop=True)"
   ]
  },
  {
   "cell_type": "markdown",
   "id": "8d45c0a1",
   "metadata": {},
   "source": [
    "<b> 6. Handling customer data </b>"
   ]
  },
  {
   "cell_type": "code",
   "execution_count": 59,
   "id": "d278e8fc",
   "metadata": {},
   "outputs": [
    {
     "data": {
      "text/plain": [
       "2    50499\n",
       "1    14460\n",
       "3     3471\n",
       "0      131\n",
       "4       23\n",
       "Name: adults, dtype: int64"
      ]
     },
     "execution_count": 59,
     "metadata": {},
     "output_type": "execute_result"
    }
   ],
   "source": [
    "df_ok.adults.value_counts()"
   ]
  },
  {
   "cell_type": "code",
   "execution_count": 60,
   "id": "c319b314",
   "metadata": {},
   "outputs": [],
   "source": [
    "# dropping bookings with 0 adults\n",
    "\n",
    "df_ok.drop(df_ok[df_ok[\"adults\"] == 0].index, inplace=True)"
   ]
  },
  {
   "cell_type": "code",
   "execution_count": 61,
   "id": "4c17c4dc",
   "metadata": {},
   "outputs": [
    {
     "data": {
      "text/plain": [
       "0     67801\n",
       "1       641\n",
       "2         9\n",
       "10        1\n",
       "9         1\n",
       "Name: babies, dtype: int64"
      ]
     },
     "execution_count": 61,
     "metadata": {},
     "output_type": "execute_result"
    }
   ],
   "source": [
    "df_ok.babies.value_counts()"
   ]
  },
  {
   "cell_type": "code",
   "execution_count": 62,
   "id": "8b77bb66",
   "metadata": {},
   "outputs": [],
   "source": [
    "# dropping the 2 bookings with extreme number of children\n",
    "df_ok.drop(df_ok[df_ok[\"babies\"] > 2].index, inplace=True)"
   ]
  },
  {
   "cell_type": "code",
   "execution_count": 63,
   "id": "4630a128",
   "metadata": {},
   "outputs": [
    {
     "data": {
      "text/plain": [
       "0.0    64265\n",
       "1.0     2907\n",
       "2.0     1264\n",
       "3.0       15\n",
       "Name: children, dtype: int64"
      ]
     },
     "execution_count": 63,
     "metadata": {},
     "output_type": "execute_result"
    }
   ],
   "source": [
    "df_ok.children.value_counts()"
   ]
  },
  {
   "cell_type": "code",
   "execution_count": 64,
   "id": "08f0b970",
   "metadata": {},
   "outputs": [],
   "source": [
    "# fixing children datatype\n",
    "df_ok[\"children\"] = df_ok[\"children\"].astype(\"int64\")"
   ]
  },
  {
   "cell_type": "markdown",
   "id": "664b42d8",
   "metadata": {},
   "source": [
    "<b> 7. Adding booking value column </b>"
   ]
  },
  {
   "cell_type": "code",
   "execution_count": 65,
   "id": "71a5b5c2",
   "metadata": {},
   "outputs": [],
   "source": [
    "# now we have the ADRs cleaned up we can add booking value column\n",
    "\n",
    "df_ok['booking_value'] = df_ok['adr'] * df_ok['length_of_stay']\n"
   ]
  },
  {
   "cell_type": "code",
   "execution_count": 66,
   "id": "5aa58a20",
   "metadata": {},
   "outputs": [],
   "source": [
    "# adding booking count column\n",
    "\n",
    "df_ok[\"booking\"] = 1"
   ]
  },
  {
   "cell_type": "code",
   "execution_count": 67,
   "id": "6ab92ead",
   "metadata": {},
   "outputs": [
    {
     "data": {
      "text/html": [
       "<div>\n",
       "<style scoped>\n",
       "    .dataframe tbody tr th:only-of-type {\n",
       "        vertical-align: middle;\n",
       "    }\n",
       "\n",
       "    .dataframe tbody tr th {\n",
       "        vertical-align: top;\n",
       "    }\n",
       "\n",
       "    .dataframe thead th {\n",
       "        text-align: right;\n",
       "    }\n",
       "</style>\n",
       "<table border=\"1\" class=\"dataframe\">\n",
       "  <thead>\n",
       "    <tr style=\"text-align: right;\">\n",
       "      <th></th>\n",
       "      <th>hotel</th>\n",
       "      <th>lead_time</th>\n",
       "      <th>arrival_date_year</th>\n",
       "      <th>arrival_date_month</th>\n",
       "      <th>arrival_date_week_number</th>\n",
       "      <th>arrival_date_day_of_month</th>\n",
       "      <th>adults</th>\n",
       "      <th>children</th>\n",
       "      <th>babies</th>\n",
       "      <th>meal</th>\n",
       "      <th>...</th>\n",
       "      <th>length_of_stay</th>\n",
       "      <th>lead_time_days</th>\n",
       "      <th>booking_date</th>\n",
       "      <th>booking_month_year</th>\n",
       "      <th>booking_weekday</th>\n",
       "      <th>month-week</th>\n",
       "      <th>checkin_week_year</th>\n",
       "      <th>checkin_month_year</th>\n",
       "      <th>booking_value</th>\n",
       "      <th>booking</th>\n",
       "    </tr>\n",
       "  </thead>\n",
       "  <tbody>\n",
       "    <tr>\n",
       "      <th>0</th>\n",
       "      <td>City Hotel</td>\n",
       "      <td>3</td>\n",
       "      <td>2015</td>\n",
       "      <td>July</td>\n",
       "      <td>27</td>\n",
       "      <td>2</td>\n",
       "      <td>1</td>\n",
       "      <td>0</td>\n",
       "      <td>0</td>\n",
       "      <td>HB</td>\n",
       "      <td>...</td>\n",
       "      <td>3</td>\n",
       "      <td>3 days</td>\n",
       "      <td>2015-06-29</td>\n",
       "      <td>2015-06</td>\n",
       "      <td>Monday</td>\n",
       "      <td>2015-27</td>\n",
       "      <td>2015-27</td>\n",
       "      <td>2015-07</td>\n",
       "      <td>176.01</td>\n",
       "      <td>1</td>\n",
       "    </tr>\n",
       "    <tr>\n",
       "      <th>1</th>\n",
       "      <td>City Hotel</td>\n",
       "      <td>43</td>\n",
       "      <td>2015</td>\n",
       "      <td>July</td>\n",
       "      <td>27</td>\n",
       "      <td>3</td>\n",
       "      <td>2</td>\n",
       "      <td>0</td>\n",
       "      <td>0</td>\n",
       "      <td>HB</td>\n",
       "      <td>...</td>\n",
       "      <td>2</td>\n",
       "      <td>43 days</td>\n",
       "      <td>2015-05-21</td>\n",
       "      <td>2015-05</td>\n",
       "      <td>Thursday</td>\n",
       "      <td>2015-21</td>\n",
       "      <td>2015-27</td>\n",
       "      <td>2015-07</td>\n",
       "      <td>172.00</td>\n",
       "      <td>1</td>\n",
       "    </tr>\n",
       "    <tr>\n",
       "      <th>2</th>\n",
       "      <td>City Hotel</td>\n",
       "      <td>43</td>\n",
       "      <td>2015</td>\n",
       "      <td>July</td>\n",
       "      <td>27</td>\n",
       "      <td>3</td>\n",
       "      <td>2</td>\n",
       "      <td>0</td>\n",
       "      <td>0</td>\n",
       "      <td>HB</td>\n",
       "      <td>...</td>\n",
       "      <td>2</td>\n",
       "      <td>43 days</td>\n",
       "      <td>2015-05-21</td>\n",
       "      <td>2015-05</td>\n",
       "      <td>Thursday</td>\n",
       "      <td>2015-21</td>\n",
       "      <td>2015-27</td>\n",
       "      <td>2015-07</td>\n",
       "      <td>86.00</td>\n",
       "      <td>1</td>\n",
       "    </tr>\n",
       "    <tr>\n",
       "      <th>3</th>\n",
       "      <td>City Hotel</td>\n",
       "      <td>43</td>\n",
       "      <td>2015</td>\n",
       "      <td>July</td>\n",
       "      <td>27</td>\n",
       "      <td>3</td>\n",
       "      <td>2</td>\n",
       "      <td>0</td>\n",
       "      <td>0</td>\n",
       "      <td>HB</td>\n",
       "      <td>...</td>\n",
       "      <td>2</td>\n",
       "      <td>43 days</td>\n",
       "      <td>2015-05-21</td>\n",
       "      <td>2015-05</td>\n",
       "      <td>Thursday</td>\n",
       "      <td>2015-21</td>\n",
       "      <td>2015-27</td>\n",
       "      <td>2015-07</td>\n",
       "      <td>172.00</td>\n",
       "      <td>1</td>\n",
       "    </tr>\n",
       "    <tr>\n",
       "      <th>4</th>\n",
       "      <td>City Hotel</td>\n",
       "      <td>4</td>\n",
       "      <td>2015</td>\n",
       "      <td>July</td>\n",
       "      <td>27</td>\n",
       "      <td>3</td>\n",
       "      <td>1</td>\n",
       "      <td>0</td>\n",
       "      <td>0</td>\n",
       "      <td>HB</td>\n",
       "      <td>...</td>\n",
       "      <td>2</td>\n",
       "      <td>4 days</td>\n",
       "      <td>2015-06-29</td>\n",
       "      <td>2015-06</td>\n",
       "      <td>Monday</td>\n",
       "      <td>2015-27</td>\n",
       "      <td>2015-27</td>\n",
       "      <td>2015-07</td>\n",
       "      <td>126.00</td>\n",
       "      <td>1</td>\n",
       "    </tr>\n",
       "  </tbody>\n",
       "</table>\n",
       "<p>5 rows × 33 columns</p>\n",
       "</div>"
      ],
      "text/plain": [
       "        hotel  lead_time  arrival_date_year arrival_date_month  \\\n",
       "0  City Hotel          3               2015               July   \n",
       "1  City Hotel         43               2015               July   \n",
       "2  City Hotel         43               2015               July   \n",
       "3  City Hotel         43               2015               July   \n",
       "4  City Hotel          4               2015               July   \n",
       "\n",
       "   arrival_date_week_number  arrival_date_day_of_month  adults  children  \\\n",
       "0                        27                          2       1         0   \n",
       "1                        27                          3       2         0   \n",
       "2                        27                          3       2         0   \n",
       "3                        27                          3       2         0   \n",
       "4                        27                          3       1         0   \n",
       "\n",
       "   babies meal  ... length_of_stay lead_time_days booking_date  \\\n",
       "0       0   HB  ...              3         3 days   2015-06-29   \n",
       "1       0   HB  ...              2        43 days   2015-05-21   \n",
       "2       0   HB  ...              2        43 days   2015-05-21   \n",
       "3       0   HB  ...              2        43 days   2015-05-21   \n",
       "4       0   HB  ...              2         4 days   2015-06-29   \n",
       "\n",
       "   booking_month_year  booking_weekday  month-week checkin_week_year  \\\n",
       "0             2015-06           Monday     2015-27           2015-27   \n",
       "1             2015-05         Thursday     2015-21           2015-27   \n",
       "2             2015-05         Thursday     2015-21           2015-27   \n",
       "3             2015-05         Thursday     2015-21           2015-27   \n",
       "4             2015-06           Monday     2015-27           2015-27   \n",
       "\n",
       "  checkin_month_year booking_value booking  \n",
       "0            2015-07        176.01       1  \n",
       "1            2015-07        172.00       1  \n",
       "2            2015-07         86.00       1  \n",
       "3            2015-07        172.00       1  \n",
       "4            2015-07        126.00       1  \n",
       "\n",
       "[5 rows x 33 columns]"
      ]
     },
     "execution_count": 67,
     "metadata": {},
     "output_type": "execute_result"
    }
   ],
   "source": [
    "df_ok.head()"
   ]
  },
  {
   "cell_type": "markdown",
   "id": "647cf264",
   "metadata": {},
   "source": [
    "<b> 8. Exporting the clean dataset </b>"
   ]
  },
  {
   "cell_type": "code",
   "execution_count": 68,
   "id": "3113e877",
   "metadata": {},
   "outputs": [],
   "source": [
    "df_ok.to_csv(\"data_bookings_clean.csv\")\n"
   ]
  }
 ],
 "metadata": {
  "kernelspec": {
   "display_name": "Python 3",
   "language": "python",
   "name": "python3"
  },
  "language_info": {
   "codemirror_mode": {
    "name": "ipython",
    "version": 3
   },
   "file_extension": ".py",
   "mimetype": "text/x-python",
   "name": "python",
   "nbconvert_exporter": "python",
   "pygments_lexer": "ipython3",
   "version": "3.7.11"
  }
 },
 "nbformat": 4,
 "nbformat_minor": 5
}
